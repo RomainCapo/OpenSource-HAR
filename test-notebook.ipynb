{
 "cells": [
  {
   "cell_type": "code",
   "execution_count": null,
   "id": "073cfd49",
   "metadata": {},
   "outputs": [],
   "source": [
    "import mlflow\n",
    "from har_test.har_test import *"
   ]
  },
  {
   "cell_type": "code",
   "execution_count": null,
   "id": "f0429bd4",
   "metadata": {},
   "outputs": [],
   "source": [
    "mlflow.set_tracking_uri('http://deplo-mlflo-5bgwmw63yikr-a96d79bfc9da58f5.elb.us-east-2.amazonaws.com/')"
   ]
  },
  {
   "cell_type": "markdown",
   "id": "de4c31e1",
   "metadata": {},
   "source": [
    "import mlflow.sagemaker as mfs\n",
    "mfs.deploy(app_name=\"OpenSource-Stack\", \n",
    "           model_uri=\"s3://mlflow-artifacts-424710357996/1/9891368543fb4f0db3bef85d15ddfa0c/artifacts/rnn-model\",\n",
    "          image_url=\"424710357996.dkr.ecr.us-east-2.amazonaws.com/mlflow-pyfunc:1.21.0\",\n",
    "          execution_role_arn=\"arn:aws:iam::424710357996:role/service-role/AmazonSageMaker-ExecutionRole-20211102T104572\",\n",
    "          region_name=\"us-east-2\")"
   ]
  },
  {
   "cell_type": "code",
   "execution_count": 1,
   "id": "9ade4954",
   "metadata": {},
   "outputs": [],
   "source": [
    "import numpy as np\n",
    "import json"
   ]
  },
  {
   "cell_type": "code",
   "execution_count": 2,
   "id": "273488f2",
   "metadata": {},
   "outputs": [],
   "source": [
    "x_data = np.load(\"data/prepared/x_data.npy\")"
   ]
  },
  {
   "cell_type": "code",
   "execution_count": 3,
   "id": "c3f2e112",
   "metadata": {},
   "outputs": [],
   "source": [
    "x_sample = x_data[0:3]"
   ]
  },
  {
   "cell_type": "code",
   "execution_count": 4,
   "id": "2d360bb3",
   "metadata": {},
   "outputs": [],
   "source": [
    "data = json.dumps({\"inputs\":x_sample.tolist()})"
   ]
  },
  {
   "cell_type": "code",
   "execution_count": 5,
   "id": "16b5165e",
   "metadata": {},
   "outputs": [],
   "source": [
    "import requests"
   ]
  },
  {
   "cell_type": "code",
   "execution_count": 11,
   "id": "0eadab46",
   "metadata": {},
   "outputs": [],
   "source": [
    "receive = requests.post('http://a2503924477d74759b520ee1dd80d63f-1209119693.us-east-2.elb.amazonaws.com:8080/invocations', headers={\"content-Type\":\"application/json\", \"Accept\":\"text/plain\"}, data=data)"
   ]
  },
  {
   "cell_type": "code",
   "execution_count": 12,
   "id": "cface99d",
   "metadata": {},
   "outputs": [
    {
     "data": {
      "text/plain": [
       "[[-0.8424261808395386, 0.6530418992042542, 0.22347968816757202],\n",
       " [0.022124936804175377, 0.0037677213549613953, -0.36725813150405884],\n",
       " [-0.3716956079006195, 0.32210981845855713, -0.004894686862826347]]"
      ]
     },
     "execution_count": 12,
     "metadata": {},
     "output_type": "execute_result"
    }
   ],
   "source": [
    "receive.json()"
   ]
  },
  {
   "cell_type": "code",
   "execution_count": 13,
   "id": "01779bf6",
   "metadata": {},
   "outputs": [],
   "source": [
    "import mlflow\n",
    "from mlflow.tracking import MlflowClient\n",
    "mlflow.set_tracking_uri('http://deplo-mlflo-5bgwmw63yikr-a96d79bfc9da58f5.elb.us-east-2.amazonaws.com/')\n",
    "client = MlflowClient()"
   ]
  },
  {
   "cell_type": "code",
   "execution_count": 2,
   "id": "bc005e50",
   "metadata": {},
   "outputs": [],
   "source": [
    "run = client.get_run(\"94ed16417bf745b7869f7948653eaefe\")"
   ]
  },
  {
   "cell_type": "code",
   "execution_count": 6,
   "id": "3ce6b3d8",
   "metadata": {},
   "outputs": [
    {
     "data": {
      "text/plain": [
       "'s3://mlflow-artifacts-424710357996/1/94ed16417bf745b7869f7948653eaefe/artifacts/rnn-model'"
      ]
     },
     "execution_count": 6,
     "metadata": {},
     "output_type": "execute_result"
    }
   ],
   "source": [
    "run.info.artifact_uri + \"/rnn-model\""
   ]
  },
  {
   "cell_type": "code",
   "execution_count": null,
   "id": "18ed314c",
   "metadata": {},
   "outputs": [],
   "source": []
  }
 ],
 "metadata": {
  "kernelspec": {
   "display_name": "Python 3 (ipykernel)",
   "language": "python",
   "name": "python3"
  },
  "language_info": {
   "codemirror_mode": {
    "name": "ipython",
    "version": 3
   },
   "file_extension": ".py",
   "mimetype": "text/x-python",
   "name": "python",
   "nbconvert_exporter": "python",
   "pygments_lexer": "ipython3",
   "version": "3.8.10"
  }
 },
 "nbformat": 4,
 "nbformat_minor": 5
}
