{
 "cells": [
  {
   "cell_type": "code",
   "execution_count": 66,
   "id": "073cfd49",
   "metadata": {},
   "outputs": [],
   "source": [
    "import mlflow\n",
    "from har_test.har_test import *"
   ]
  },
  {
   "cell_type": "code",
   "execution_count": 67,
   "id": "f0429bd4",
   "metadata": {},
   "outputs": [],
   "source": [
    "mlflow.set_tracking_uri('http://deplo-mlflo-5bgwmw63yikr-a96d79bfc9da58f5.elb.us-east-2.amazonaws.com/')"
   ]
  },
  {
   "cell_type": "markdown",
   "id": "de4c31e1",
   "metadata": {},
   "source": [
    "import mlflow.sagemaker as mfs\n",
    "mfs.deploy(app_name=\"OpenSource-Stack\", \n",
    "           model_uri=\"s3://mlflow-artifacts-424710357996/1/9891368543fb4f0db3bef85d15ddfa0c/artifacts/rnn-model\",\n",
    "          image_url=\"424710357996.dkr.ecr.us-east-2.amazonaws.com/mlflow-pyfunc:1.21.0\",\n",
    "          execution_role_arn=\"arn:aws:iam::424710357996:role/service-role/AmazonSageMaker-ExecutionRole-20211102T104572\",\n",
    "          region_name=\"us-east-2\")"
   ]
  },
  {
   "cell_type": "code",
   "execution_count": 50,
   "id": "9ade4954",
   "metadata": {},
   "outputs": [],
   "source": [
    "import numpy as np\n",
    "import json"
   ]
  },
  {
   "cell_type": "code",
   "execution_count": 51,
   "id": "273488f2",
   "metadata": {},
   "outputs": [],
   "source": [
    "x_data = np.load(\"data/prepared/x_data.npy\")"
   ]
  },
  {
   "cell_type": "code",
   "execution_count": 52,
   "id": "c3f2e112",
   "metadata": {},
   "outputs": [],
   "source": [
    "x_sample = x_data[0:3]"
   ]
  },
  {
   "cell_type": "code",
   "execution_count": 80,
   "id": "2d360bb3",
   "metadata": {},
   "outputs": [],
   "source": [
    "data = json.dumps({\"inputs\":x_sample.tolist()})"
   ]
  },
  {
   "cell_type": "code",
   "execution_count": 54,
   "id": "16b5165e",
   "metadata": {},
   "outputs": [],
   "source": [
    "import requests"
   ]
  },
  {
   "cell_type": "code",
   "execution_count": 83,
   "id": "0eadab46",
   "metadata": {},
   "outputs": [],
   "source": [
    "receive = requests.post('http://127.0.0.1:5001/invocations', headers={\"content-Type\":\"application/json\", \"Accept\":\"text/plain\"}, data=data)"
   ]
  },
  {
   "cell_type": "code",
   "execution_count": 85,
   "id": "cface99d",
   "metadata": {},
   "outputs": [
    {
     "data": {
      "text/plain": [
       "[[-0.2633652985095978, 0.6547276973724365, 0.4074263572692871],\n",
       " [-0.4173245131969452, 0.17416515946388245, 0.3302633762359619],\n",
       " [-0.6025059223175049, 0.05849580466747284, 0.7384602427482605]]"
      ]
     },
     "execution_count": 85,
     "metadata": {},
     "output_type": "execute_result"
    }
   ],
   "source": [
    "receive.json()"
   ]
  }
 ],
 "metadata": {
  "kernelspec": {
   "display_name": "Python 3 (ipykernel)",
   "language": "python",
   "name": "python3"
  },
  "language_info": {
   "codemirror_mode": {
    "name": "ipython",
    "version": 3
   },
   "file_extension": ".py",
   "mimetype": "text/x-python",
   "name": "python",
   "nbconvert_exporter": "python",
   "pygments_lexer": "ipython3",
   "version": "3.8.10"
  }
 },
 "nbformat": 4,
 "nbformat_minor": 5
}
