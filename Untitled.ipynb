{
 "cells": [
  {
   "cell_type": "code",
   "execution_count": 77,
   "id": "821128ae",
   "metadata": {},
   "outputs": [],
   "source": [
    "import numpy as np\n",
    "import json"
   ]
  },
  {
   "cell_type": "code",
   "execution_count": 78,
   "id": "5d7cb5dc",
   "metadata": {},
   "outputs": [],
   "source": [
    "x_data = np.load(\"data/prepared/x_data.npy\")"
   ]
  },
  {
   "cell_type": "code",
   "execution_count": 79,
   "id": "e860df0b",
   "metadata": {},
   "outputs": [],
   "source": [
    "x_sample = x_data[0:3]\n",
    "data = json.dumps({\"inputs\":x_sample.tolist(), \"endpoint_name\":\"HAR-PPG-staging\"})"
   ]
  },
  {
   "cell_type": "code",
   "execution_count": 82,
   "id": "7029d80e",
   "metadata": {},
   "outputs": [],
   "source": [
    "import requests\n",
    "\n",
    "\n",
    "\n",
    "receive = requests.post('https://bowz5brihk.execute-api.us-east-2.amazonaws.com/invoke_sagemaker', headers={\"content-Type\":\"application/json\", \"Accept\":\"text/plain\"}, data=data)"
   ]
  },
  {
   "cell_type": "code",
   "execution_count": 83,
   "id": "2a7e2f31",
   "metadata": {},
   "outputs": [
    {
     "data": {
      "text/plain": [
       "{'outputs': [[-1.39007139, 0.353128135, 0.0395416692],\n",
       "  [-1.06630909, 0.50865519, 0.0406593569],\n",
       "  [-1.20112467, 0.666346252, 0.0867118388]]}"
      ]
     },
     "execution_count": 83,
     "metadata": {},
     "output_type": "execute_result"
    }
   ],
   "source": [
    "receive.json()"
   ]
  },
  {
   "cell_type": "code",
   "execution_count": null,
   "id": "e673c922",
   "metadata": {},
   "outputs": [],
   "source": []
  }
 ],
 "metadata": {
  "kernelspec": {
   "display_name": "Python 3 (ipykernel)",
   "language": "python",
   "name": "python3"
  },
  "language_info": {
   "codemirror_mode": {
    "name": "ipython",
    "version": 3
   },
   "file_extension": ".py",
   "mimetype": "text/x-python",
   "name": "python",
   "nbconvert_exporter": "python",
   "pygments_lexer": "ipython3",
   "version": "3.8.10"
  }
 },
 "nbformat": 4,
 "nbformat_minor": 5
}
